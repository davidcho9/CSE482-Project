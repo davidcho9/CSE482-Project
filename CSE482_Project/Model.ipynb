{
 "cells": [
  {
   "cell_type": "code",
   "execution_count": 122,
   "metadata": {
    "collapsed": false
   },
   "outputs": [
    {
     "data": {
      "text/html": [
       "<div>\n",
       "<style>\n",
       "    .dataframe thead tr:only-child th {\n",
       "        text-align: right;\n",
       "    }\n",
       "\n",
       "    .dataframe thead th {\n",
       "        text-align: left;\n",
       "    }\n",
       "\n",
       "    .dataframe tbody tr th {\n",
       "        vertical-align: top;\n",
       "    }\n",
       "</style>\n",
       "<table border=\"1\" class=\"dataframe\">\n",
       "  <thead>\n",
       "    <tr style=\"text-align: right;\">\n",
       "      <th></th>\n",
       "      <th>Corn</th>\n",
       "      <th>DOW</th>\n",
       "      <th>Gold</th>\n",
       "      <th>Oil</th>\n",
       "      <th>Twitter</th>\n",
       "    </tr>\n",
       "  </thead>\n",
       "  <tbody>\n",
       "    <tr>\n",
       "      <th>2013-04-02</th>\n",
       "      <td>640.5</td>\n",
       "      <td>14572.849609</td>\n",
       "      <td>1597.75</td>\n",
       "      <td>97.23</td>\n",
       "      <td>0.120448</td>\n",
       "    </tr>\n",
       "    <tr>\n",
       "      <th>2013-04-03</th>\n",
       "      <td>641.5</td>\n",
       "      <td>14662.009766</td>\n",
       "      <td>1568.50</td>\n",
       "      <td>95.02</td>\n",
       "      <td>0.163889</td>\n",
       "    </tr>\n",
       "    <tr>\n",
       "      <th>2013-04-04</th>\n",
       "      <td>630.0</td>\n",
       "      <td>14550.349609</td>\n",
       "      <td>1545.25</td>\n",
       "      <td>93.26</td>\n",
       "      <td>0.140000</td>\n",
       "    </tr>\n",
       "    <tr>\n",
       "      <th>2013-04-05</th>\n",
       "      <td>629.0</td>\n",
       "      <td>14606.110352</td>\n",
       "      <td>1552.75</td>\n",
       "      <td>92.76</td>\n",
       "      <td>0.125506</td>\n",
       "    </tr>\n",
       "    <tr>\n",
       "      <th>2013-04-08</th>\n",
       "      <td>633.5</td>\n",
       "      <td>14565.250000</td>\n",
       "      <td>1577.25</td>\n",
       "      <td>93.36</td>\n",
       "      <td>0.044000</td>\n",
       "    </tr>\n",
       "  </tbody>\n",
       "</table>\n",
       "</div>"
      ],
      "text/plain": [
       "             Corn           DOW     Gold    Oil   Twitter\n",
       "2013-04-02  640.5  14572.849609  1597.75  97.23  0.120448\n",
       "2013-04-03  641.5  14662.009766  1568.50  95.02  0.163889\n",
       "2013-04-04  630.0  14550.349609  1545.25  93.26  0.140000\n",
       "2013-04-05  629.0  14606.110352  1552.75  92.76  0.125506\n",
       "2013-04-08  633.5  14565.250000  1577.25  93.36  0.044000"
      ]
     },
     "execution_count": 122,
     "metadata": {},
     "output_type": "execute_result"
    }
   ],
   "source": [
    "import pandas as pd\n",
    "\n",
    "data = pd.read_csv('datasets/final_table.csv', index_col='Unnamed: 0')\n",
    "microsoft = pd.read_csv('datasets/microsoft.csv')\n",
    "data.head()"
   ]
  },
  {
   "cell_type": "code",
   "execution_count": 126,
   "metadata": {
    "collapsed": false
   },
   "outputs": [
    {
     "name": "stdout",
     "output_type": "stream",
     "text": [
      "RMSE:  8.22215442594\n",
      "R-score:  -2.68479906837\n",
      "[-0.00489112  0.00470516 -0.00391837  0.03769692 -3.31714191] -33.4081963926\n"
     ]
    },
    {
     "data": {
      "text/html": [
       "<div>\n",
       "<style>\n",
       "    .dataframe thead tr:only-child th {\n",
       "        text-align: right;\n",
       "    }\n",
       "\n",
       "    .dataframe thead th {\n",
       "        text-align: left;\n",
       "    }\n",
       "\n",
       "    .dataframe tbody tr th {\n",
       "        vertical-align: top;\n",
       "    }\n",
       "</style>\n",
       "<table border=\"1\" class=\"dataframe\">\n",
       "  <thead>\n",
       "    <tr style=\"text-align: right;\">\n",
       "      <th></th>\n",
       "      <th>Predicted</th>\n",
       "      <th>True</th>\n",
       "    </tr>\n",
       "  </thead>\n",
       "  <tbody>\n",
       "    <tr>\n",
       "      <th>732</th>\n",
       "      <td>42.075552</td>\n",
       "      <td>52.750000</td>\n",
       "    </tr>\n",
       "    <tr>\n",
       "      <th>733</th>\n",
       "      <td>42.199004</td>\n",
       "      <td>53.450001</td>\n",
       "    </tr>\n",
       "    <tr>\n",
       "      <th>734</th>\n",
       "      <td>42.332920</td>\n",
       "      <td>54.209999</td>\n",
       "    </tr>\n",
       "    <tr>\n",
       "      <th>735</th>\n",
       "      <td>43.055730</td>\n",
       "      <td>54.919998</td>\n",
       "    </tr>\n",
       "    <tr>\n",
       "      <th>736</th>\n",
       "      <td>43.926893</td>\n",
       "      <td>53.250000</td>\n",
       "    </tr>\n",
       "    <tr>\n",
       "      <th>737</th>\n",
       "      <td>43.879602</td>\n",
       "      <td>53.610001</td>\n",
       "    </tr>\n",
       "    <tr>\n",
       "      <th>738</th>\n",
       "      <td>44.022343</td>\n",
       "      <td>54.110001</td>\n",
       "    </tr>\n",
       "    <tr>\n",
       "      <th>739</th>\n",
       "      <td>43.532195</td>\n",
       "      <td>53.840000</td>\n",
       "    </tr>\n",
       "    <tr>\n",
       "      <th>740</th>\n",
       "      <td>43.694439</td>\n",
       "      <td>53.660000</td>\n",
       "    </tr>\n",
       "    <tr>\n",
       "      <th>741</th>\n",
       "      <td>43.922536</td>\n",
       "      <td>54.930000</td>\n",
       "    </tr>\n",
       "  </tbody>\n",
       "</table>\n",
       "</div>"
      ],
      "text/plain": [
       "     Predicted       True\n",
       "732  42.075552  52.750000\n",
       "733  42.199004  53.450001\n",
       "734  42.332920  54.209999\n",
       "735  43.055730  54.919998\n",
       "736  43.926893  53.250000\n",
       "737  43.879602  53.610001\n",
       "738  44.022343  54.110001\n",
       "739  43.532195  53.840000\n",
       "740  43.694439  53.660000\n",
       "741  43.922536  54.930000"
      ]
     },
     "execution_count": 126,
     "metadata": {},
     "output_type": "execute_result"
    }
   ],
   "source": [
    "import numpy as np\n",
    "from sklearn import linear_model\n",
    "from sklearn.metrics import mean_squared_error, r2_score\n",
    "\n",
    "X_train = data[:500]\n",
    "X_test = data[500:]\n",
    "y_train = microsoft['Open'][:500]\n",
    "y_test = microsoft['Open'][500:]\n",
    "\n",
    "regr = linear_model.LinearRegression()\n",
    "regr.fit(X_train, y_train)\n",
    "\n",
    "y_pred = regr.predict(X_test)\n",
    "print('RMSE: ', np.sqrt(mean_squared_error(y_test, y_pred)) )\n",
    "print('R-score: ', r2_score(y_test, y_pred))\n",
    "print(regr.coef_, regr.intercept_)\n",
    "y_pred\n",
    "\n",
    "out = pd.DataFrame({'True' : y_test, 'Predicted' : y_pred})\n",
    "out.tail(10)"
   ]
  },
  {
   "cell_type": "code",
   "execution_count": 120,
   "metadata": {
    "collapsed": false
   },
   "outputs": [
    {
     "data": {
      "image/png": "[encoded data removed]",
      "text/plain": [
       "<matplotlib.figure.Figure at 0x1fc30e55550>"
      ]
     },
     "metadata": {},
     "output_type": "display_data"
    }
   ],
   "source": [
    "import matplotlib.pyplot as plt\n",
    "\n",
    "plt.plot(range(242), y_test, 'b--', range(242), y_pred , 'r--')\n",
    "plt.show()"
   ]
  },
  {
   "cell_type": "code",
   "execution_count": null,
   "metadata": {
    "collapsed": false
   },
   "outputs": [],
   "source": []
  },
  {
   "cell_type": "code",
   "execution_count": null,
   "metadata": {
    "collapsed": true
   },
   "outputs": [],
   "source": []
  }
 ],
 "metadata": {
  "kernelspec": {
   "display_name": "Python [conda env:py36]",
   "language": "python",
   "name": "conda-env-py36-py"
  },
  "language_info": {
   "codemirror_mode": {
    "name": "ipython",
    "version": 3
   },
   "file_extension": ".py",
   "mimetype": "text/x-python",
   "name": "python",
   "nbconvert_exporter": "python",
   "pygments_lexer": "ipython3",
   "version": "3.6.2"
  }
 },
 "nbformat": 4,
 "nbformat_minor": 1
}
